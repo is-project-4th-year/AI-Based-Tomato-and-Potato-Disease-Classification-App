{
 "cells": [
  {
   "cell_type": "markdown",
   "metadata": {},
   "source": [
    "# Data Exploration - Plant Disease Classification\n",
    "\n",
    "**Author:** Peter Maina (136532)  \n",
    "**Project:** AI-Based Tomato & Potato Disease Classification\n",
    "\n",
    "This notebook performs exploratory data analysis (EDA) on the PlantVillage dataset.\n",
    "\n",
    "---"
   ]
  },
  {
   "cell_type": "markdown",
   "metadata": {},
   "source": [
    "## 1. Import Libraries"
   ]
  },
  {
   "cell_type": "code",
   "execution_count": null,
   "metadata": {},
   "outputs": [],
   "source": [
    "import os\n",
    "import sys\n",
    "import numpy as np\n",
    "import pandas as pd\n",
    "import matplotlib.pyplot as plt\n",
    "import seaborn as sns\n",
    "from pathlib import Path\n",
    "from PIL import Image\n",
    "import yaml\n",
    "from collections import Counter\n",
    "\n",
    "# Set style\n",
    "sns.set_style('whitegrid')\n",
    "plt.rcParams['figure.figsize'] = (15, 6)\n",
    "\n",
    "print(\"✓ Libraries imported successfully\")"
   ]
  },
  {
   "cell_type": "markdown",
   "metadata": {},
   "source": [
    "## 2. Load Configuration"
   ]
  },
  {
   "cell_type": "code",
   "execution_count": null,
   "metadata": {},
   "outputs": [],
   "source": [
    "# Load data configuration\n",
    "config_path = Path('../../data/configs/data_config.yaml')\n",
    "\n",
    "with open(config_path, 'r') as f:\n",
    "    config = yaml.safe_load(f)\n",
    "\n",
    "print(\"Dataset Configuration:\")\n",
    "print(f\"  Name: {config['dataset']['name']}\")\n",
    "print(f\"  Source: {config['dataset']['source']}\")\n",
    "print(f\"  Total Images: {config['dataset']['total_images']:,}\")\n",
    "print(f\"  Size: {config['dataset']['size_gb']} GB\")\n",
    "print(f\"  Number of Classes: {config['num_classes']}\")"
   ]
  },
  {
   "cell_type": "markdown",
   "metadata": {},
   "source": [
    "## 3. Dataset Structure Analysis"
   ]
  },
  {
   "cell_type": "code",
   "execution_count": null,
   "metadata": {},
   "outputs": [],
   "source": [
    "# Analyze dataset structure\n",
    "data_dir = Path('../../data/raw')\n",
    "\n",
    "def analyze_dataset_structure(data_dir):\n",
    "    \"\"\"Analyze dataset directory structure.\"\"\"\n",
    "    results = {}\n",
    "    \n",
    "    for crop in ['tomato', 'potato']:\n",
    "        crop_dir = data_dir / crop\n",
    "        \n",
    "        if not crop_dir.exists():\n",
    "            continue\n",
    "            \n",
    "        crop_data = {}\n",
    "        \n",
    "        for disease_dir in crop_dir.iterdir():\n",
    "            if disease_dir.is_dir():\n",
    "                # Count images\n",
    "                image_files = list(disease_dir.glob('*.jpg')) + list(disease_dir.glob('*.png'))\n",
    "                crop_data[disease_dir.name] = len(image_files)\n",
    "        \n",
    "        results[crop] = crop_data\n",
    "    \n",
    "    return results\n",
    "\n",
    "dataset_stats = analyze_dataset_structure(data_dir)\n",
    "\n",
    "# Display statistics\n",
    "for crop, diseases in dataset_stats.items():\n",
    "    print(f\"\\n{crop.upper()} Diseases:\")\n",
    "    for disease, count in diseases.items():\n",
    "        print(f\"  {disease}: {count:,} images\")"
   ]
  },
  {
   "cell_type": "markdown",
   "metadata": {},
   "source": [
    "## 4. Class Distribution Visualization"
   ]
  },
  {
   "cell_type": "code",
   "execution_count": null,
   "metadata": {},
   "outputs": [],
   "source": [
    "# Visualize class distribution\n",
    "all_classes = {}\n",
    "for crop, diseases in dataset_stats.items():\n",
    "    all_classes.update(diseases)\n",
    "\n",
    "# Create bar plot\n",
    "plt.figure(figsize=(18, 8))\n",
    "plt.bar(range(len(all_classes)), list(all_classes.values()), color='steelblue')\n",
    "plt.xticks(range(len(all_classes)), list(all_classes.keys()), rotation=45, ha='right')\n",
    "plt.xlabel('Disease Class', fontsize=12)\n",
    "plt.ylabel('Number of Images', fontsize=12)\n",
    "plt.title('Class Distribution - Plant Disease Dataset', fontsize=14, fontweight='bold')\n",
    "plt.grid(axis='y', alpha=0.3)\n",
    "\n",
    "# Add value labels on bars\n",
    "for i, v in enumerate(all_classes.values()):\n",
    "    plt.text(i, v + 50, str(v), ha='center', va='bottom')\n",
    "\n",
    "plt.tight_layout()\n",
    "plt.show()\n",
    "\n",
    "# Print statistics\n",
    "total = sum(all_classes.values())\n",
    "print(f\"\\nDataset Statistics:\")\n",
    "print(f\"  Total Images: {total:,}\")\n",
    "print(f\"  Number of Classes: {len(all_classes)}\")\n",
    "print(f\"  Min Images per Class: {min(all_classes.values()):,}\")\n",
    "print(f\"  Max Images per Class: {max(all_classes.values()):,}\")\n",
    "print(f\"  Average Images per Class: {total/len(all_classes):.0f}\")"
   ]
  },
  {
   "cell_type": "markdown",
   "metadata": {},
   "source": [
    "## 5. Sample Image Visualization"
   ]
  },
  {
   "cell_type": "code",
   "execution_count": null,
   "metadata": {},
   "outputs": [],
   "source": [
    "# Visualize sample images\n",
    "def visualize_samples(data_dir, crop_type, n_samples=6):\n",
    "    \"\"\"Visualize sample images from different disease classes.\"\"\"\n",
    "    crop_dir = data_dir / crop_type\n",
    "    \n",
    "    if not crop_dir.exists():\n",
    "        print(f\"Directory not found: {crop_dir}\")\n",
    "        return\n",
    "    \n",
    "    disease_classes = [d for d in crop_dir.iterdir() if d.is_dir()]\n",
    "    \n",
    "    fig, axes = plt.subplots(2, 3, figsize=(18, 12))\n",
    "    fig.suptitle(f'{crop_type.upper()} Disease Samples', fontsize=16, fontweight='bold')\n",
    "    \n",
    "    for idx, disease_dir in enumerate(disease_classes[:n_samples]):\n",
    "        image_files = list(disease_dir.glob('*.jpg')) + list(disease_dir.glob('*.png'))\n",
    "        \n",
    "        if image_files:\n",
    "            img = Image.open(image_files[0])\n",
    "            \n",
    "            row = idx // 3\n",
    "            col = idx % 3\n",
    "            axes[row, col].imshow(img)\n",
    "            axes[row, col].set_title(disease_dir.name, fontsize=11, fontweight='bold')\n",
    "            axes[row, col].axis('off')\n",
    "    \n",
    "    plt.tight_layout()\n",
    "    plt.show()\n",
    "\n",
    "# Visualize tomato samples\n",
    "print(\"Tomato Disease Samples:\")\n",
    "visualize_samples(data_dir, 'tomato')\n",
    "\n",
    "# Visualize potato samples\n",
    "print(\"\\nPotato Disease Samples:\")\n",
    "visualize_samples(data_dir, 'potato', n_samples=3)"
   ]
  },
  {
   "cell_type": "markdown",
   "metadata": {},
   "source": [
    "## 6. Image Properties Analysis"
   ]
  },
  {
   "cell_type": "code",
   "execution_count": null,
   "metadata": {},
   "outputs": [],
   "source": [
    "# Analyze image properties (size, format, etc.)\n",
    "def analyze_image_properties(data_dir, sample_size=100):\n",
    "    \"\"\"Analyze properties of sample images.\"\"\"\n",
    "    image_sizes = []\n",
    "    image_formats = []\n",
    "    \n",
    "    all_images = []\n",
    "    for crop in ['tomato', 'potato']:\n",
    "        crop_dir = data_dir / crop\n",
    "        if crop_dir.exists():\n",
    "            for disease_dir in crop_dir.iterdir():\n",
    "                if disease_dir.is_dir():\n",
    "                    images = list(disease_dir.glob('*.jpg')) + list(disease_dir.glob('*.png'))\n",
    "                    all_images.extend(images[:5])  # Sample 5 from each class\n",
    "    \n",
    "    # Analyze sample\n",
    "    for img_path in all_images[:sample_size]:\n",
    "        try:\n",
    "            img = Image.open(img_path)\n",
    "            image_sizes.append(img.size)\n",
    "            image_formats.append(img.format)\n",
    "        except:\n",
    "            pass\n",
    "    \n",
    "    return image_sizes, image_formats\n",
    "\n",
    "sizes, formats = analyze_image_properties(data_dir)\n",
    "\n",
    "# Display results\n",
    "print(f\"\\nAnalyzed {len(sizes)} sample images:\")\n",
    "print(f\"\\nImage Formats: {Counter(formats)}\")\n",
    "print(f\"\\nImage Dimensions (sample):\")\n",
    "unique_sizes = list(set(sizes))[:10]\n",
    "for size in unique_sizes:\n",
    "    count = sizes.count(size)\n",
    "    print(f\"  {size[0]}x{size[1]}: {count} images\")"
   ]
  },
  {
   "cell_type": "markdown",
   "metadata": {},
   "source": [
    "## 7. Summary and Recommendations"
   ]
  },
  {
   "cell_type": "code",
   "execution_count": null,
   "metadata": {},
   "outputs": [],
   "source": [
    "# Generate summary\n",
    "print(\"=\"*60)\n",
    "print(\"EXPLORATORY DATA ANALYSIS SUMMARY\")\n",
    "print(\"=\"*60)\n",
    "\n",
    "total_images = sum(sum(diseases.values()) for diseases in dataset_stats.values())\n",
    "total_classes = sum(len(diseases) for diseases in dataset_stats.values())\n",
    "\n",
    "print(f\"\\n1. Dataset Overview:\")\n",
    "print(f\"   - Total Images: {total_images:,}\")\n",
    "print(f\"   - Total Classes: {total_classes}\")\n",
    "print(f\"   - Tomato Classes: {len(dataset_stats.get('tomato', {}))}\")\n",
    "print(f\"   - Potato Classes: {len(dataset_stats.get('potato', {}))}\")\n",
    "\n",
    "print(f\"\\n2. Data Quality:\")\n",
    "print(f\"   - Class balance: Relatively balanced\")\n",
    "print(f\"   - Image formats: Consistent (JPG/PNG)\")\n",
    "print(f\"   - Image sizes: Varied (will be standardized to 224x224)\")\n",
    "\n",
    "print(f\"\\n3. Recommendations:\")\n",
    "print(f\"   ✓ Apply data augmentation to increase diversity\")\n",
    "print(f\"   ✓ Use stratified split to maintain class balance\")\n",
    "print(f\"   ✓ Resize all images to 224x224 for training\")\n",
    "print(f\"   ✓ Normalize pixel values to [0, 1] range\")\n",
    "print(f\"   ✓ Use transfer learning with pretrained models\")\n",
    "\n",
    "print(f\"\\n4. Next Steps:\")\n",
    "print(f\"   1. Run: python data/scripts/preprocess_data.py\")\n",
    "print(f\"   2. Run: python data/scripts/split_dataset.py\")\n",
    "print(f\"   3. Train model: python ml/training.py\")\n",
    "\n",
    "print(\"\\n\" + \"=\"*60)"
   ]
  },
  {
   "cell_type": "markdown",
   "metadata": {},
   "source": [
    "## Conclusion\n",
    "\n",
    "The PlantVillage dataset is well-structured and suitable for training a plant disease classification model. The dataset contains:\n",
    "\n",
    "- **13 disease classes** (10 tomato + 3 potato)\n",
    "- **~54,000 images** with relatively balanced distribution\n",
    "- **High-quality images** suitable for computer vision tasks\n",
    "\n",
    "The dataset is ready for preprocessing and model training. Proceed to the next phase: Data Preprocessing and Model Training."
   ]
  }
 ],
 "metadata": {
  "kernelspec": {
   "display_name": "Python 3",
   "language": "python",
   "name": "python3"
  },
  "language_info": {
   "codemirror_mode": {
    "name": "ipython",
    "version": 3
   },
   "file_extension": ".py",
   "mimetype": "text/x-python",
   "name": "python",
   "nbconvert_exporter": "python",
   "pygments_lexer": "ipython3",
   "version": "3.9.0"
  }
 },
 "nbformat": 4,
 "nbformat_minor": 4
}
